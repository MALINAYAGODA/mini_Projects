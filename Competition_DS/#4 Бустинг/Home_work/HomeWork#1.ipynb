{
  "nbformat": 4,
  "nbformat_minor": 0,
  "metadata": {
    "colab": {
      "provenance": [],
      "toc_visible": true
    },
    "kernelspec": {
      "name": "python3",
      "display_name": "Python 3"
    },
    "language_info": {
      "name": "python"
    }
  },
  "cells": [
    {
      "cell_type": "markdown",
      "source": [
        "## Практический урок по бустингам\n",
        "\n",
        "**Задача:** обучить несколько бустингов на 3-х фолдах, выбрать лучшие, усреднить предсказания.\n",
        "\n",
        "\n",
        "**Исходные данные:** [quickstart_train.csv](https://raw.githubusercontent.com/a-milenkin/Competitive_Data_Science/main/data/quickstart_train.csv) и [quickstart_test.csv](https://raw.githubusercontent.com/a-milenkin/Competitive_Data_Science/main/data/quickstart_test.csv).\n",
        "\n",
        "**Таргет:** столбец `target_reg`.\n",
        "\n",
        "**Метрика:** `RMSE`.\n",
        "\n",
        "**Модели, которые необходимо обучить:**\n",
        "* `CatBoostRegressor`.\n",
        "* `LightGBMRegressor` (goss).\n",
        "* `XGBoostRegressor` (dart).\n",
        "\n",
        "\n",
        "**Дополнительные условия**:\n",
        "\n",
        "* Все модели обучаем на 3-х фолдах.\n",
        "* Выбираем лучший фолд от каждой модели (получаем 3 лучших модели).\n",
        "* Обязательно должна быть добавлена ячейка с сохранением 3-х лучших моделей.\n",
        "* Делаем итоговое предсказание на тестовом датасете, усреднив предсказание от 3-х лучших моделей.\n",
        "* Сохраняем в submission.csv только колонки `car_id` и `target_reg`.\n",
        "* В конце добавляем небольшой текстовый блок с выводами.\n",
        "* Желательно, чтобы на выполнение всего ноутбука уходило не более 30 мин.\n",
        "* Не добавляем новые признаки.\n",
        "* Не используем GPU.\n",
        "* Не используем Optuna."
      ],
      "metadata": {
        "id": "oNe5oxGu5sHS"
      }
    },
    {
      "cell_type": "code",
      "source": [
        "!pip install catboost"
      ],
      "metadata": {
        "id": "Ur6TWg1XW3Wk",
        "outputId": "3bbf3fdf-5c8c-4516-9316-130181db1fc8",
        "colab": {
          "base_uri": "https://localhost:8080/"
        }
      },
      "execution_count": 62,
      "outputs": [
        {
          "output_type": "stream",
          "name": "stdout",
          "text": [
            "Requirement already satisfied: catboost in /usr/local/lib/python3.10/dist-packages (1.2.2)\n",
            "Requirement already satisfied: graphviz in /usr/local/lib/python3.10/dist-packages (from catboost) (0.20.1)\n",
            "Requirement already satisfied: matplotlib in /usr/local/lib/python3.10/dist-packages (from catboost) (3.7.1)\n",
            "Requirement already satisfied: numpy>=1.16.0 in /usr/local/lib/python3.10/dist-packages (from catboost) (1.23.5)\n",
            "Requirement already satisfied: pandas>=0.24 in /usr/local/lib/python3.10/dist-packages (from catboost) (1.5.3)\n",
            "Requirement already satisfied: scipy in /usr/local/lib/python3.10/dist-packages (from catboost) (1.11.4)\n",
            "Requirement already satisfied: plotly in /usr/local/lib/python3.10/dist-packages (from catboost) (5.15.0)\n",
            "Requirement already satisfied: six in /usr/local/lib/python3.10/dist-packages (from catboost) (1.16.0)\n",
            "Requirement already satisfied: python-dateutil>=2.8.1 in /usr/local/lib/python3.10/dist-packages (from pandas>=0.24->catboost) (2.8.2)\n",
            "Requirement already satisfied: pytz>=2020.1 in /usr/local/lib/python3.10/dist-packages (from pandas>=0.24->catboost) (2023.3.post1)\n",
            "Requirement already satisfied: contourpy>=1.0.1 in /usr/local/lib/python3.10/dist-packages (from matplotlib->catboost) (1.2.0)\n",
            "Requirement already satisfied: cycler>=0.10 in /usr/local/lib/python3.10/dist-packages (from matplotlib->catboost) (0.12.1)\n",
            "Requirement already satisfied: fonttools>=4.22.0 in /usr/local/lib/python3.10/dist-packages (from matplotlib->catboost) (4.47.2)\n",
            "Requirement already satisfied: kiwisolver>=1.0.1 in /usr/local/lib/python3.10/dist-packages (from matplotlib->catboost) (1.4.5)\n",
            "Requirement already satisfied: packaging>=20.0 in /usr/local/lib/python3.10/dist-packages (from matplotlib->catboost) (23.2)\n",
            "Requirement already satisfied: pillow>=6.2.0 in /usr/local/lib/python3.10/dist-packages (from matplotlib->catboost) (9.4.0)\n",
            "Requirement already satisfied: pyparsing>=2.3.1 in /usr/local/lib/python3.10/dist-packages (from matplotlib->catboost) (3.1.1)\n",
            "Requirement already satisfied: tenacity>=6.2.0 in /usr/local/lib/python3.10/dist-packages (from plotly->catboost) (8.2.3)\n"
          ]
        }
      ]
    },
    {
      "cell_type": "code",
      "execution_count": 63,
      "metadata": {
        "id": "28dPMUkN5oC4"
      },
      "outputs": [],
      "source": [
        "import lightgbm as lgb\n",
        "import matplotlib.pyplot as plt\n",
        "import numpy as np\n",
        "import pandas as pd\n",
        "import seaborn as sns\n",
        "import xgboost as xgb\n",
        "from catboost import CatBoostRegressor, Pool\n",
        "from scipy import stats\n",
        "from sklearn.metrics import mean_squared_error\n",
        "from sklearn.model_selection import KFold, train_test_split\n",
        "from sklearn.preprocessing import LabelEncoder"
      ]
    },
    {
      "cell_type": "code",
      "source": [
        "BASE_URL = 'https://raw.githubusercontent.com/a-milenkin/Competitive_Data_Science/main/data/'\n",
        "RANDOM_SEED = 42"
      ],
      "metadata": {
        "id": "X1R899b37nsX"
      },
      "execution_count": 64,
      "outputs": []
    },
    {
      "cell_type": "markdown",
      "source": [
        "### Получение данных"
      ],
      "metadata": {
        "id": "0t2rrz1GjMzB"
      }
    },
    {
      "cell_type": "code",
      "source": [
        "train_data = pd.read_csv(BASE_URL + 'quickstart_train.csv')\n",
        "test_data = pd.read_csv(BASE_URL + 'quickstart_test.csv')\n",
        "train_data.head()"
      ],
      "metadata": {
        "colab": {
          "base_uri": "https://localhost:8080/",
          "height": 313
        },
        "id": "ws7pytis5rTF",
        "outputId": "bc29cb78-5910-4078-932d-3b39a3cbaed1"
      },
      "execution_count": 65,
      "outputs": [
        {
          "output_type": "execute_result",
          "data": {
            "text/plain": [
              "       car_id              model  car_type fuel_type  car_rating  \\\n",
              "0  y13744087j     Kia Rio X-line   economy    petrol        3.78   \n",
              "1  O41613818T         VW Polo VI   economy    petrol        3.90   \n",
              "2  d-2109686j    Renault Sandero  standart    petrol        6.30   \n",
              "3  u29695600e  Mercedes-Benz GLC  business    petrol        4.04   \n",
              "4  N-8915870N    Renault Sandero  standart    petrol        4.70   \n",
              "\n",
              "   year_to_start  riders  year_to_work  target_reg target_class  mean_rating  \\\n",
              "0           2015   76163          2021      109.99  another_bug     4.737759   \n",
              "1           2015   78218          2021       34.48  electro_bug     4.480517   \n",
              "2           2012   23340          2017       34.93   gear_stick     4.768391   \n",
              "3           2011    1263          2020       32.22  engine_fuel     3.880920   \n",
              "4           2012   26428          2017       27.51  engine_fuel     4.181149   \n",
              "\n",
              "   distance_sum  rating_min   speed_max  user_ride_quality_median  \\\n",
              "0  1.214131e+07         0.1  180.855726                  0.023174   \n",
              "1  1.803909e+07         0.0  187.862734                 12.306011   \n",
              "2  1.588366e+07         0.1  102.382857                  2.513319   \n",
              "3  1.651883e+07         0.1  172.793237                 -5.029476   \n",
              "4  1.398317e+07         0.1  203.462289                -14.260456   \n",
              "\n",
              "   deviation_normal_count  user_uniq  \n",
              "0                     174        170  \n",
              "1                     174        174  \n",
              "2                     174        173  \n",
              "3                     174        170  \n",
              "4                     174        171  "
            ],
            "text/html": [
              "\n",
              "  <div id=\"df-6a0768b8-43ff-4454-b3e2-8a0eb4632525\" class=\"colab-df-container\">\n",
              "    <div>\n",
              "<style scoped>\n",
              "    .dataframe tbody tr th:only-of-type {\n",
              "        vertical-align: middle;\n",
              "    }\n",
              "\n",
              "    .dataframe tbody tr th {\n",
              "        vertical-align: top;\n",
              "    }\n",
              "\n",
              "    .dataframe thead th {\n",
              "        text-align: right;\n",
              "    }\n",
              "</style>\n",
              "<table border=\"1\" class=\"dataframe\">\n",
              "  <thead>\n",
              "    <tr style=\"text-align: right;\">\n",
              "      <th></th>\n",
              "      <th>car_id</th>\n",
              "      <th>model</th>\n",
              "      <th>car_type</th>\n",
              "      <th>fuel_type</th>\n",
              "      <th>car_rating</th>\n",
              "      <th>year_to_start</th>\n",
              "      <th>riders</th>\n",
              "      <th>year_to_work</th>\n",
              "      <th>target_reg</th>\n",
              "      <th>target_class</th>\n",
              "      <th>mean_rating</th>\n",
              "      <th>distance_sum</th>\n",
              "      <th>rating_min</th>\n",
              "      <th>speed_max</th>\n",
              "      <th>user_ride_quality_median</th>\n",
              "      <th>deviation_normal_count</th>\n",
              "      <th>user_uniq</th>\n",
              "    </tr>\n",
              "  </thead>\n",
              "  <tbody>\n",
              "    <tr>\n",
              "      <th>0</th>\n",
              "      <td>y13744087j</td>\n",
              "      <td>Kia Rio X-line</td>\n",
              "      <td>economy</td>\n",
              "      <td>petrol</td>\n",
              "      <td>3.78</td>\n",
              "      <td>2015</td>\n",
              "      <td>76163</td>\n",
              "      <td>2021</td>\n",
              "      <td>109.99</td>\n",
              "      <td>another_bug</td>\n",
              "      <td>4.737759</td>\n",
              "      <td>1.214131e+07</td>\n",
              "      <td>0.1</td>\n",
              "      <td>180.855726</td>\n",
              "      <td>0.023174</td>\n",
              "      <td>174</td>\n",
              "      <td>170</td>\n",
              "    </tr>\n",
              "    <tr>\n",
              "      <th>1</th>\n",
              "      <td>O41613818T</td>\n",
              "      <td>VW Polo VI</td>\n",
              "      <td>economy</td>\n",
              "      <td>petrol</td>\n",
              "      <td>3.90</td>\n",
              "      <td>2015</td>\n",
              "      <td>78218</td>\n",
              "      <td>2021</td>\n",
              "      <td>34.48</td>\n",
              "      <td>electro_bug</td>\n",
              "      <td>4.480517</td>\n",
              "      <td>1.803909e+07</td>\n",
              "      <td>0.0</td>\n",
              "      <td>187.862734</td>\n",
              "      <td>12.306011</td>\n",
              "      <td>174</td>\n",
              "      <td>174</td>\n",
              "    </tr>\n",
              "    <tr>\n",
              "      <th>2</th>\n",
              "      <td>d-2109686j</td>\n",
              "      <td>Renault Sandero</td>\n",
              "      <td>standart</td>\n",
              "      <td>petrol</td>\n",
              "      <td>6.30</td>\n",
              "      <td>2012</td>\n",
              "      <td>23340</td>\n",
              "      <td>2017</td>\n",
              "      <td>34.93</td>\n",
              "      <td>gear_stick</td>\n",
              "      <td>4.768391</td>\n",
              "      <td>1.588366e+07</td>\n",
              "      <td>0.1</td>\n",
              "      <td>102.382857</td>\n",
              "      <td>2.513319</td>\n",
              "      <td>174</td>\n",
              "      <td>173</td>\n",
              "    </tr>\n",
              "    <tr>\n",
              "      <th>3</th>\n",
              "      <td>u29695600e</td>\n",
              "      <td>Mercedes-Benz GLC</td>\n",
              "      <td>business</td>\n",
              "      <td>petrol</td>\n",
              "      <td>4.04</td>\n",
              "      <td>2011</td>\n",
              "      <td>1263</td>\n",
              "      <td>2020</td>\n",
              "      <td>32.22</td>\n",
              "      <td>engine_fuel</td>\n",
              "      <td>3.880920</td>\n",
              "      <td>1.651883e+07</td>\n",
              "      <td>0.1</td>\n",
              "      <td>172.793237</td>\n",
              "      <td>-5.029476</td>\n",
              "      <td>174</td>\n",
              "      <td>170</td>\n",
              "    </tr>\n",
              "    <tr>\n",
              "      <th>4</th>\n",
              "      <td>N-8915870N</td>\n",
              "      <td>Renault Sandero</td>\n",
              "      <td>standart</td>\n",
              "      <td>petrol</td>\n",
              "      <td>4.70</td>\n",
              "      <td>2012</td>\n",
              "      <td>26428</td>\n",
              "      <td>2017</td>\n",
              "      <td>27.51</td>\n",
              "      <td>engine_fuel</td>\n",
              "      <td>4.181149</td>\n",
              "      <td>1.398317e+07</td>\n",
              "      <td>0.1</td>\n",
              "      <td>203.462289</td>\n",
              "      <td>-14.260456</td>\n",
              "      <td>174</td>\n",
              "      <td>171</td>\n",
              "    </tr>\n",
              "  </tbody>\n",
              "</table>\n",
              "</div>\n",
              "    <div class=\"colab-df-buttons\">\n",
              "\n",
              "  <div class=\"colab-df-container\">\n",
              "    <button class=\"colab-df-convert\" onclick=\"convertToInteractive('df-6a0768b8-43ff-4454-b3e2-8a0eb4632525')\"\n",
              "            title=\"Convert this dataframe to an interactive table.\"\n",
              "            style=\"display:none;\">\n",
              "\n",
              "  <svg xmlns=\"http://www.w3.org/2000/svg\" height=\"24px\" viewBox=\"0 -960 960 960\">\n",
              "    <path d=\"M120-120v-720h720v720H120Zm60-500h600v-160H180v160Zm220 220h160v-160H400v160Zm0 220h160v-160H400v160ZM180-400h160v-160H180v160Zm440 0h160v-160H620v160ZM180-180h160v-160H180v160Zm440 0h160v-160H620v160Z\"/>\n",
              "  </svg>\n",
              "    </button>\n",
              "\n",
              "  <style>\n",
              "    .colab-df-container {\n",
              "      display:flex;\n",
              "      gap: 12px;\n",
              "    }\n",
              "\n",
              "    .colab-df-convert {\n",
              "      background-color: #E8F0FE;\n",
              "      border: none;\n",
              "      border-radius: 50%;\n",
              "      cursor: pointer;\n",
              "      display: none;\n",
              "      fill: #1967D2;\n",
              "      height: 32px;\n",
              "      padding: 0 0 0 0;\n",
              "      width: 32px;\n",
              "    }\n",
              "\n",
              "    .colab-df-convert:hover {\n",
              "      background-color: #E2EBFA;\n",
              "      box-shadow: 0px 1px 2px rgba(60, 64, 67, 0.3), 0px 1px 3px 1px rgba(60, 64, 67, 0.15);\n",
              "      fill: #174EA6;\n",
              "    }\n",
              "\n",
              "    .colab-df-buttons div {\n",
              "      margin-bottom: 4px;\n",
              "    }\n",
              "\n",
              "    [theme=dark] .colab-df-convert {\n",
              "      background-color: #3B4455;\n",
              "      fill: #D2E3FC;\n",
              "    }\n",
              "\n",
              "    [theme=dark] .colab-df-convert:hover {\n",
              "      background-color: #434B5C;\n",
              "      box-shadow: 0px 1px 3px 1px rgba(0, 0, 0, 0.15);\n",
              "      filter: drop-shadow(0px 1px 2px rgba(0, 0, 0, 0.3));\n",
              "      fill: #FFFFFF;\n",
              "    }\n",
              "  </style>\n",
              "\n",
              "    <script>\n",
              "      const buttonEl =\n",
              "        document.querySelector('#df-6a0768b8-43ff-4454-b3e2-8a0eb4632525 button.colab-df-convert');\n",
              "      buttonEl.style.display =\n",
              "        google.colab.kernel.accessAllowed ? 'block' : 'none';\n",
              "\n",
              "      async function convertToInteractive(key) {\n",
              "        const element = document.querySelector('#df-6a0768b8-43ff-4454-b3e2-8a0eb4632525');\n",
              "        const dataTable =\n",
              "          await google.colab.kernel.invokeFunction('convertToInteractive',\n",
              "                                                    [key], {});\n",
              "        if (!dataTable) return;\n",
              "\n",
              "        const docLinkHtml = 'Like what you see? Visit the ' +\n",
              "          '<a target=\"_blank\" href=https://colab.research.google.com/notebooks/data_table.ipynb>data table notebook</a>'\n",
              "          + ' to learn more about interactive tables.';\n",
              "        element.innerHTML = '';\n",
              "        dataTable['output_type'] = 'display_data';\n",
              "        await google.colab.output.renderOutput(dataTable, element);\n",
              "        const docLink = document.createElement('div');\n",
              "        docLink.innerHTML = docLinkHtml;\n",
              "        element.appendChild(docLink);\n",
              "      }\n",
              "    </script>\n",
              "  </div>\n",
              "\n",
              "\n",
              "<div id=\"df-d0799b92-6f12-4f4f-bbf8-d4e2210ebe31\">\n",
              "  <button class=\"colab-df-quickchart\" onclick=\"quickchart('df-d0799b92-6f12-4f4f-bbf8-d4e2210ebe31')\"\n",
              "            title=\"Suggest charts\"\n",
              "            style=\"display:none;\">\n",
              "\n",
              "<svg xmlns=\"http://www.w3.org/2000/svg\" height=\"24px\"viewBox=\"0 0 24 24\"\n",
              "     width=\"24px\">\n",
              "    <g>\n",
              "        <path d=\"M19 3H5c-1.1 0-2 .9-2 2v14c0 1.1.9 2 2 2h14c1.1 0 2-.9 2-2V5c0-1.1-.9-2-2-2zM9 17H7v-7h2v7zm4 0h-2V7h2v10zm4 0h-2v-4h2v4z\"/>\n",
              "    </g>\n",
              "</svg>\n",
              "  </button>\n",
              "\n",
              "<style>\n",
              "  .colab-df-quickchart {\n",
              "      --bg-color: #E8F0FE;\n",
              "      --fill-color: #1967D2;\n",
              "      --hover-bg-color: #E2EBFA;\n",
              "      --hover-fill-color: #174EA6;\n",
              "      --disabled-fill-color: #AAA;\n",
              "      --disabled-bg-color: #DDD;\n",
              "  }\n",
              "\n",
              "  [theme=dark] .colab-df-quickchart {\n",
              "      --bg-color: #3B4455;\n",
              "      --fill-color: #D2E3FC;\n",
              "      --hover-bg-color: #434B5C;\n",
              "      --hover-fill-color: #FFFFFF;\n",
              "      --disabled-bg-color: #3B4455;\n",
              "      --disabled-fill-color: #666;\n",
              "  }\n",
              "\n",
              "  .colab-df-quickchart {\n",
              "    background-color: var(--bg-color);\n",
              "    border: none;\n",
              "    border-radius: 50%;\n",
              "    cursor: pointer;\n",
              "    display: none;\n",
              "    fill: var(--fill-color);\n",
              "    height: 32px;\n",
              "    padding: 0;\n",
              "    width: 32px;\n",
              "  }\n",
              "\n",
              "  .colab-df-quickchart:hover {\n",
              "    background-color: var(--hover-bg-color);\n",
              "    box-shadow: 0 1px 2px rgba(60, 64, 67, 0.3), 0 1px 3px 1px rgba(60, 64, 67, 0.15);\n",
              "    fill: var(--button-hover-fill-color);\n",
              "  }\n",
              "\n",
              "  .colab-df-quickchart-complete:disabled,\n",
              "  .colab-df-quickchart-complete:disabled:hover {\n",
              "    background-color: var(--disabled-bg-color);\n",
              "    fill: var(--disabled-fill-color);\n",
              "    box-shadow: none;\n",
              "  }\n",
              "\n",
              "  .colab-df-spinner {\n",
              "    border: 2px solid var(--fill-color);\n",
              "    border-color: transparent;\n",
              "    border-bottom-color: var(--fill-color);\n",
              "    animation:\n",
              "      spin 1s steps(1) infinite;\n",
              "  }\n",
              "\n",
              "  @keyframes spin {\n",
              "    0% {\n",
              "      border-color: transparent;\n",
              "      border-bottom-color: var(--fill-color);\n",
              "      border-left-color: var(--fill-color);\n",
              "    }\n",
              "    20% {\n",
              "      border-color: transparent;\n",
              "      border-left-color: var(--fill-color);\n",
              "      border-top-color: var(--fill-color);\n",
              "    }\n",
              "    30% {\n",
              "      border-color: transparent;\n",
              "      border-left-color: var(--fill-color);\n",
              "      border-top-color: var(--fill-color);\n",
              "      border-right-color: var(--fill-color);\n",
              "    }\n",
              "    40% {\n",
              "      border-color: transparent;\n",
              "      border-right-color: var(--fill-color);\n",
              "      border-top-color: var(--fill-color);\n",
              "    }\n",
              "    60% {\n",
              "      border-color: transparent;\n",
              "      border-right-color: var(--fill-color);\n",
              "    }\n",
              "    80% {\n",
              "      border-color: transparent;\n",
              "      border-right-color: var(--fill-color);\n",
              "      border-bottom-color: var(--fill-color);\n",
              "    }\n",
              "    90% {\n",
              "      border-color: transparent;\n",
              "      border-bottom-color: var(--fill-color);\n",
              "    }\n",
              "  }\n",
              "</style>\n",
              "\n",
              "  <script>\n",
              "    async function quickchart(key) {\n",
              "      const quickchartButtonEl =\n",
              "        document.querySelector('#' + key + ' button');\n",
              "      quickchartButtonEl.disabled = true;  // To prevent multiple clicks.\n",
              "      quickchartButtonEl.classList.add('colab-df-spinner');\n",
              "      try {\n",
              "        const charts = await google.colab.kernel.invokeFunction(\n",
              "            'suggestCharts', [key], {});\n",
              "      } catch (error) {\n",
              "        console.error('Error during call to suggestCharts:', error);\n",
              "      }\n",
              "      quickchartButtonEl.classList.remove('colab-df-spinner');\n",
              "      quickchartButtonEl.classList.add('colab-df-quickchart-complete');\n",
              "    }\n",
              "    (() => {\n",
              "      let quickchartButtonEl =\n",
              "        document.querySelector('#df-d0799b92-6f12-4f4f-bbf8-d4e2210ebe31 button');\n",
              "      quickchartButtonEl.style.display =\n",
              "        google.colab.kernel.accessAllowed ? 'block' : 'none';\n",
              "    })();\n",
              "  </script>\n",
              "</div>\n",
              "    </div>\n",
              "  </div>\n"
            ]
          },
          "metadata": {},
          "execution_count": 65
        }
      ]
    },
    {
      "cell_type": "code",
      "source": [
        "# Вынесем фичи разного типа в разные списки\n",
        "cat_features = ['model', 'car_type', 'fuel_type']\n",
        "cols_to_drop = ['car_id']\n",
        "target_cols = ['target_class', 'target_reg']"
      ],
      "metadata": {
        "id": "DDcpVkHMieUM"
      },
      "execution_count": 66,
      "outputs": []
    },
    {
      "cell_type": "markdown",
      "source": [
        "### Обучение моделей"
      ],
      "metadata": {
        "id": "UsWnXddujrwe"
      }
    },
    {
      "cell_type": "markdown",
      "source": [
        "#### CatBoost"
      ],
      "metadata": {
        "id": "3nym28YlkxOj"
      }
    },
    {
      "cell_type": "code",
      "source": [
        "# Подготовка данных\n",
        "X = train_data.drop(columns=cols_to_drop + target_cols)\n",
        "y = train_data['target_reg']\n",
        "\n",
        "# Изменяем тип категориальных фичей так, что CatBoost всё устроило\n",
        "for col in cat_features:\n",
        "    X[col] = X[col].astype(str)"
      ],
      "metadata": {
        "id": "V46tpn5dpQYg"
      },
      "execution_count": 67,
      "outputs": []
    },
    {
      "cell_type": "code",
      "source": [
        "# Подбор гиперпараметров\n",
        "\n",
        "model = CatBoostRegressor(\n",
        "    iterations=500,\n",
        "    eval_metric='RMSE',\n",
        "    thread_count=-1,\n",
        "    random_seed=RANDOM_SEED,\n",
        "    verbose=False,\n",
        "    cat_features=cat_features\n",
        ")\n",
        "\n",
        "param_distribution = {\n",
        "    \"colsample_bylevel\": stats.uniform(),\n",
        "    \"depth\": stats.binom(n=10, p=0.2),\n",
        "    \"one_hot_max_size\": stats.bernoulli(p=0.2, loc=2),\n",
        "    \"learning_rate\": [0.03, 0.1, 0.3],\n",
        "    \"l2_leaf_reg\": [2, 5, 7],\n",
        "    \"subsample\": stats.uniform(),\n",
        "\n",
        "}\n",
        "\n",
        "randomized_search_result = model.randomized_search(\n",
        "    param_distribution,\n",
        "    X,\n",
        "    y,\n",
        "    verbose=False,\n",
        ")"
      ],
      "metadata": {
        "colab": {
          "base_uri": "https://localhost:8080/"
        },
        "id": "sGU2qEiIpQSJ",
        "outputId": "e2c42ca5-0a61-481b-8109-d94a25349837"
      },
      "execution_count": 68,
      "outputs": [
        {
          "output_type": "stream",
          "name": "stdout",
          "text": [
            "\n",
            "bestTest = 10.81637531\n",
            "bestIteration = 499\n",
            "\n",
            "\n",
            "bestTest = 10.92604306\n",
            "bestIteration = 499\n",
            "\n",
            "\n",
            "bestTest = 12.2075523\n",
            "bestIteration = 499\n",
            "\n",
            "\n",
            "bestTest = 10.9144751\n",
            "bestIteration = 271\n",
            "\n",
            "\n",
            "bestTest = 10.76893807\n",
            "bestIteration = 481\n",
            "\n",
            "\n",
            "bestTest = 10.81334022\n",
            "bestIteration = 175\n",
            "\n",
            "\n",
            "bestTest = 10.81389273\n",
            "bestIteration = 415\n",
            "\n",
            "\n",
            "bestTest = 11.00076099\n",
            "bestIteration = 454\n",
            "\n",
            "\n",
            "bestTest = 10.76947496\n",
            "bestIteration = 71\n",
            "\n",
            "\n",
            "bestTest = 11.04055593\n",
            "bestIteration = 68\n",
            "\n",
            "Training on fold [0/3]\n",
            "\n",
            "bestTest = 11.76748965\n",
            "bestIteration = 483\n",
            "\n",
            "Training on fold [1/3]\n",
            "\n",
            "bestTest = 11.8317538\n",
            "bestIteration = 499\n",
            "\n",
            "Training on fold [2/3]\n",
            "\n",
            "bestTest = 11.24581544\n",
            "bestIteration = 443\n",
            "\n"
          ]
        }
      ]
    },
    {
      "cell_type": "code",
      "source": [
        "# Лучшие парамеры\n",
        "randomized_search_result[\"params\"]"
      ],
      "metadata": {
        "colab": {
          "base_uri": "https://localhost:8080/"
        },
        "id": "_YOeleDZqgzN",
        "outputId": "12f356be-a715-4292-bed7-07918491e0e8"
      },
      "execution_count": 69,
      "outputs": [
        {
          "output_type": "execute_result",
          "data": {
            "text/plain": [
              "{'l2_leaf_reg': 5,\n",
              " 'subsample': 0.8775056753965695,\n",
              " 'rsm': 0.5615030923984693,\n",
              " 'depth': 3.0,\n",
              " 'one_hot_max_size': 3.0,\n",
              " 'learning_rate': 0.03}"
            ]
          },
          "metadata": {},
          "execution_count": 69
        }
      ]
    },
    {
      "cell_type": "code",
      "source": [
        "# Object importance\n",
        "X_train, X_val, y_train, y_val = train_test_split(\n",
        "    X, y, test_size=0.2, random_state=RANDOM_SEED\n",
        ")\n",
        "X_train = X_train.reset_index(drop=True)\n",
        "train_dataset = Pool(data=X_train, label=y_train, cat_features=cat_features)\n",
        "eval_dataset = Pool(data=X_val, label=y_val, cat_features=cat_features)\n",
        "\n",
        "model = CatBoostRegressor(\n",
        "    iterations=3000,\n",
        "    eval_metric='RMSE',\n",
        "    thread_count=-1,\n",
        "    random_seed=RANDOM_SEED,\n",
        "    **randomized_search_result[\"params\"]\n",
        ")\n",
        "\n",
        "model.fit(\n",
        "    train_dataset,\n",
        "    eval_set=eval_dataset,\n",
        "    early_stopping_rounds=50,\n",
        "    verbose=False,\n",
        "    use_best_model=True,\n",
        ")\n",
        "\n",
        "idxs, scores = model.get_object_importance(\n",
        "    eval_dataset,\n",
        "    train_dataset,\n",
        "    importance_values_sign=\"Positive\",\n",
        "    thread_count=-1,\n",
        ")\n",
        "\n",
        "len(idxs)"
      ],
      "metadata": {
        "colab": {
          "base_uri": "https://localhost:8080/"
        },
        "id": "f2Nwaq7QWacH",
        "outputId": "31318a90-52aa-44e4-d2af-46592026b6f0"
      },
      "execution_count": 70,
      "outputs": [
        {
          "output_type": "execute_result",
          "data": {
            "text/plain": [
              "1096"
            ]
          },
          "metadata": {},
          "execution_count": 70
        }
      ]
    },
    {
      "cell_type": "markdown",
      "source": [
        "- model.get_feature_importance()\n",
        "- model.get_object_importance()"
      ],
      "metadata": {
        "id": "GY5WE7umfAqA"
      }
    },
    {
      "cell_type": "code",
      "source": [
        "# Визуализируем изменение object importance\n",
        "sns.set_style('whitegrid')\n",
        "plt.figure(figsize=(7, 5))\n",
        "sns.lineplot(scores)\n",
        "plt.title('Изменение object importance')\n",
        "plt.xlabel('Место объекта по object importance')\n",
        "plt.ylabel('Object importance');"
      ],
      "metadata": {
        "colab": {
          "base_uri": "https://localhost:8080/",
          "height": 487
        },
        "id": "_h5yQb7-XZoc",
        "outputId": "a2423d95-508f-4bcf-d9bf-987d8ec91665"
      },
      "execution_count": 71,
      "outputs": [
        {
          "output_type": "display_data",
          "data": {
            "text/plain": [
              "<Figure size 700x500 with 1 Axes>"
            ],
            "image/png": "[encoded data removed]"
          },
          "metadata": {}
        }
      ]
    },
    {
      "cell_type": "markdown",
      "source": [
        "По графику видно, что точка перегиба находится в пределах 0.11. Отсечём все объекты, у которых object importance больше 0.11."
      ],
      "metadata": {
        "id": "__dKn4SKY727"
      }
    },
    {
      "cell_type": "code",
      "source": [
        "# Выбираем индексы для тех элементов, которые будут удалены\n",
        "scores = np.array(scores)\n",
        "idxs = np.array(idxs)\n",
        "idxs_to_drop = idxs[scores > 0.11]\n",
        "original_idxs = X_train.iloc[idxs_to_drop].index\n",
        "print(f'Будет удалено {idxs_to_drop.shape[0]} елементов')"
      ],
      "metadata": {
        "colab": {
          "base_uri": "https://localhost:8080/"
        },
        "id": "giexksSlZpFq",
        "outputId": "3b26d091-e3e6-46b3-97bd-b099ef7d09a4"
      },
      "execution_count": 72,
      "outputs": [
        {
          "output_type": "stream",
          "name": "stdout",
          "text": [
            "Будет удалено 155 елементов\n"
          ]
        }
      ]
    },
    {
      "cell_type": "code",
      "source": [
        "# Удалим элементы\n",
        "X_filtered = X.drop(original_idxs).reset_index(drop=True)\n",
        "y_filtered = y.drop(original_idxs).reset_index(drop=True)"
      ],
      "metadata": {
        "id": "7H_abeB6aDpQ"
      },
      "execution_count": 73,
      "outputs": []
    },
    {
      "cell_type": "code",
      "source": [
        "# Обучение\n",
        "n_splits = 3\n",
        "cat_boosts = []\n",
        "cat_scores = []\n",
        "\n",
        "kfold = KFold(n_splits, shuffle=True, random_state=RANDOM_SEED)\n",
        "\n",
        "for train_indexes, val_indexes in kfold.split(X_filtered):\n",
        "    X_train = X_filtered.loc[train_indexes]\n",
        "    X_val = X_filtered.loc[val_indexes]\n",
        "    y_train = y_filtered.loc[train_indexes]\n",
        "    y_val = y_filtered.loc[val_indexes]\n",
        "\n",
        "    train_dataset = Pool(data=X_train, label=y_train, cat_features=cat_features)\n",
        "    eval_dataset = Pool(data=X_val, label=y_val, cat_features=cat_features)\n",
        "\n",
        "    model = CatBoostRegressor(\n",
        "        iterations=3000,\n",
        "        eval_metric='RMSE',\n",
        "        thread_count=-1,\n",
        "        random_seed=RANDOM_SEED,\n",
        "        **randomized_search_result[\"params\"]\n",
        "    )\n",
        "\n",
        "    cat_boosts.append(model)\n",
        "\n",
        "    model.fit(\n",
        "        train_dataset,\n",
        "        eval_set=eval_dataset,\n",
        "        early_stopping_rounds=50,\n",
        "        verbose=1000,\n",
        "        use_best_model=True,\n",
        "    )\n",
        "\n",
        "    cat_scores.append(model.best_score_['validation']['RMSE'])"
      ],
      "metadata": {
        "colab": {
          "base_uri": "https://localhost:8080/"
        },
        "id": "o5_OdBXacrfA",
        "outputId": "7e7cdedd-0ed3-4fb6-c4c9-c51553b882ce"
      },
      "execution_count": 74,
      "outputs": [
        {
          "output_type": "stream",
          "name": "stdout",
          "text": [
            "0:\tlearn: 17.2275933\ttest: 18.0757522\tbest: 18.0757522 (0)\ttotal: 835us\tremaining: 2.51s\n",
            "Stopped by overfitting detector  (50 iterations wait)\n",
            "\n",
            "bestTest = 11.95189457\n",
            "bestIteration = 434\n",
            "\n",
            "Shrink model to first 435 iterations.\n",
            "0:\tlearn: 17.3347113\ttest: 17.8041338\tbest: 17.8041338 (0)\ttotal: 777us\tremaining: 2.33s\n",
            "Stopped by overfitting detector  (50 iterations wait)\n",
            "\n",
            "bestTest = 11.75845437\n",
            "bestIteration = 812\n",
            "\n",
            "Shrink model to first 813 iterations.\n",
            "0:\tlearn: 17.8955071\ttest: 16.6387689\tbest: 16.6387689 (0)\ttotal: 829us\tremaining: 2.49s\n",
            "Stopped by overfitting detector  (50 iterations wait)\n",
            "\n",
            "bestTest = 11.32224655\n",
            "bestIteration = 300\n",
            "\n",
            "Shrink model to first 301 iterations.\n"
          ]
        }
      ]
    },
    {
      "cell_type": "code",
      "source": [
        "len(cat_boosts)"
      ],
      "metadata": {
        "id": "ZHWTn8-Rgw9W",
        "outputId": "ad3729ee-6038-40de-e588-f243fc221980",
        "colab": {
          "base_uri": "https://localhost:8080/"
        }
      },
      "execution_count": 75,
      "outputs": [
        {
          "output_type": "execute_result",
          "data": {
            "text/plain": [
              "3"
            ]
          },
          "metadata": {},
          "execution_count": 75
        }
      ]
    },
    {
      "cell_type": "code",
      "source": [
        "# Средние метрики на кросс-валидации\n",
        "assert len(cat_boosts) == n_splits\n",
        "print(\"mean RMSE score -->\", np.mean(cat_scores) - np.std(cat_scores))"
      ],
      "metadata": {
        "colab": {
          "base_uri": "https://localhost:8080/"
        },
        "id": "tJL9T6kWcswd",
        "outputId": "fe64ef88-7df5-4883-bd8a-b95090f0909b"
      },
      "execution_count": 76,
      "outputs": [
        {
          "output_type": "stream",
          "name": "stdout",
          "text": [
            "mean RMSE score --> 11.414187317664318\n"
          ]
        }
      ]
    },
    {
      "cell_type": "markdown",
      "source": [
        "После удаления объектов на основе object importance, средннее значение `RMSE` на кросс-валидации уменьшилось на 0.31 (11.73 --> 11.42)"
      ],
      "metadata": {
        "id": "4KVG7cakdAx4"
      }
    },
    {
      "cell_type": "code",
      "source": [
        "# Выбираем и сохраняем лучший фолд\n",
        "catboost_best_model = cat_boosts[np.argmin(cat_scores)]\n",
        "catboost_best_model.save_model(\"catboost_model.cbm\")"
      ],
      "metadata": {
        "id": "1pWtb0ZRdwUv"
      },
      "execution_count": 77,
      "outputs": []
    },
    {
      "cell_type": "markdown",
      "source": [
        "#### LightGBM"
      ],
      "metadata": {
        "id": "6w1A2_KDkx4B"
      }
    },
    {
      "cell_type": "code",
      "source": [
        "# Подготовка данных\n",
        "X = train_data.drop(columns=cols_to_drop + target_cols)\n",
        "y = train_data['target_reg']\n",
        "\n",
        "# Изменяем тип категориальных фичей так, что LightGBM всё устроило\n",
        "label_encoder = LabelEncoder()\n",
        "for col in cat_features:\n",
        "    X[col] = label_encoder.fit_transform(X[col])"
      ],
      "metadata": {
        "id": "91-hR7IIGb9L"
      },
      "execution_count": 78,
      "outputs": []
    },
    {
      "cell_type": "code",
      "source": [
        "# Удалим элементы на основе object importance из catboost\n",
        "X_filtered = X.drop(original_idxs).reset_index(drop=True)\n",
        "y_filtered = y.drop(original_idxs).reset_index(drop=True)"
      ],
      "metadata": {
        "id": "QB7lhdGXO7RF"
      },
      "execution_count": 79,
      "outputs": []
    },
    {
      "cell_type": "code",
      "source": [
        "# Обучение\n",
        "n_splits = 3\n",
        "light_boosts = []\n",
        "light_scores = []\n",
        "\n",
        "params = {\n",
        "    'boosting_type': 'goss',\n",
        "    'objective': 'regression',\n",
        "    'metric': 'rmse',\n",
        "    'learning_rate': 0.05,\n",
        "    'early_stopping_rounds': 50,\n",
        "    'seed': RANDOM_SEED,\n",
        "    'verbose': -1,\n",
        "}\n",
        "\n",
        "kfold = KFold(n_splits, shuffle=True, random_state=RANDOM_SEED)\n",
        "\n",
        "for train_indexes, val_indexes in kfold.split(X_filtered):\n",
        "    X_train = X_filtered.loc[train_indexes]\n",
        "    X_val = X_filtered.loc[val_indexes]\n",
        "    y_train = y_filtered.loc[train_indexes]\n",
        "    y_val = y_filtered.loc[val_indexes]\n",
        "\n",
        "    train_dataset = lgb.Dataset(\n",
        "        data=X_train,\n",
        "        label=y_train,\n",
        "        categorical_feature=cat_features,\n",
        "    )\n",
        "\n",
        "    eval_dataset = lgb.Dataset(\n",
        "        data=X_val,\n",
        "        label=y_val,\n",
        "        categorical_feature=cat_features,\n",
        "    )\n",
        "\n",
        "    model = lgb.train(\n",
        "        params,\n",
        "        train_set=train_dataset,\n",
        "        valid_sets=(eval_dataset),\n",
        "        num_boost_round=500,\n",
        "    )\n",
        "\n",
        "    light_boosts.append(model)\n",
        "\n",
        "    light_scores.append(model.best_score['valid_0']['rmse'])\n",
        "\n",
        "# Средние метрики на кросс-валидации\n",
        "assert len(light_boosts) == n_splits\n",
        "print(\"mean RMSE score -->\", np.mean(light_scores) - np.std(light_scores))"
      ],
      "metadata": {
        "colab": {
          "base_uri": "https://localhost:8080/"
        },
        "id": "KMhQLBvJO4Ci",
        "outputId": "bfef64e5-f998-4b1c-c638-52c7e97015d6"
      },
      "execution_count": 80,
      "outputs": [
        {
          "output_type": "stream",
          "name": "stdout",
          "text": [
            "mean RMSE score --> 11.73631602179455\n"
          ]
        }
      ]
    },
    {
      "cell_type": "code",
      "source": [
        "# Выбираем и сохраняем лучший фолд\n",
        "lgb_best_model = light_boosts[np.argmin(light_scores)]\n",
        "lgb_best_model.save_model(\"lgb_model.mod\")"
      ],
      "metadata": {
        "colab": {
          "base_uri": "https://localhost:8080/"
        },
        "id": "ELU7qkF9JjKQ",
        "outputId": "69b44137-a81f-439f-c2f9-7f780a742f60"
      },
      "execution_count": 81,
      "outputs": [
        {
          "output_type": "execute_result",
          "data": {
            "text/plain": [
              "<lightgbm.basic.Booster at 0x7edcb90d8880>"
            ]
          },
          "metadata": {},
          "execution_count": 81
        }
      ]
    },
    {
      "cell_type": "markdown",
      "source": [
        "#### XGBoost"
      ],
      "metadata": {
        "id": "2Ab_vuUvkxkf"
      }
    },
    {
      "cell_type": "code",
      "source": [
        "# Подготовка данных\n",
        "X = train_data.drop(columns=cols_to_drop + target_cols)\n",
        "y = train_data['target_reg']\n",
        "\n",
        "# Изменяем тип категориальных фичей так, что XGBoost всё устроило\n",
        "for col in cat_features:\n",
        "    X[col] = X[col].astype('category')"
      ],
      "metadata": {
        "id": "oyvJ41KpPSGz"
      },
      "execution_count": 82,
      "outputs": []
    },
    {
      "cell_type": "code",
      "source": [
        "# Удалим элементы на основе object importance из catboost\n",
        "X_filtered = X.drop(original_idxs).reset_index(drop=True)\n",
        "y_filtered = y.drop(original_idxs).reset_index(drop=True)"
      ],
      "metadata": {
        "id": "poPitbiEUCbf"
      },
      "execution_count": 83,
      "outputs": []
    },
    {
      "cell_type": "code",
      "source": [
        "# Добавим Scheduler для XGBoost\n",
        "iters = 15\n",
        "learning_rates = np.linspace(0.3, 0.005, iters).tolist()\n",
        "scheduler = xgb.callback.LearningRateScheduler(learning_rates)\n",
        "model = xgb.train(\n",
        "        ...\n",
        "        callbacks=[scheduler],\n",
        "        ...\n",
        "    )"
      ],
      "metadata": {
        "id": "h_S_1E9alGc_"
      },
      "execution_count": 92,
      "outputs": []
    },
    {
      "cell_type": "code",
      "source": [
        "# Обучение\n",
        "n_splits = 3\n",
        "xgb_boosts = []\n",
        "xgb_scores = []\n",
        "\n",
        "params = {\n",
        "    'booster': 'dart',\n",
        "    'objective': 'reg:squarederror',\n",
        "    'eval_metric': 'rmse',\n",
        "    'verbosity': 0,\n",
        "    'nthread': -1,\n",
        "    'seed': RANDOM_SEED,\n",
        "}\n",
        "\n",
        "# Добавим Scheduler\n",
        "iters = 15\n",
        "learning_rates = np.linspace(0.3, 0.005, iters).tolist()\n",
        "scheduler = xgb.callback.LearningRateScheduler(learning_rates)\n",
        "\n",
        "kfold = KFold(n_splits, shuffle=True, random_state=RANDOM_SEED)\n",
        "\n",
        "for train_indexes, val_indexes in kfold.split(X_filtered):\n",
        "    X_train = X_filtered.loc[train_indexes]\n",
        "    X_val = X_filtered.loc[val_indexes]\n",
        "    y_train = y_filtered.loc[train_indexes]\n",
        "    y_val = y_filtered.loc[val_indexes]\n",
        "\n",
        "    train_dataset = xgb.DMatrix(\n",
        "        data=X_train,\n",
        "        label=y_train,\n",
        "        nthread=-1,\n",
        "        enable_categorical=True,\n",
        "    )\n",
        "\n",
        "    eval_dataset = xgb.DMatrix(\n",
        "        data=X_val,\n",
        "        label=y_val,\n",
        "        nthread=-1,\n",
        "        enable_categorical=True,\n",
        "    )\n",
        "\n",
        "    model = xgb.train(\n",
        "        params,\n",
        "        dtrain=train_dataset,\n",
        "        evals=[(train_dataset, 'train'), (eval_dataset, 'val')],\n",
        "        num_boost_round=iters,\n",
        "        callbacks=[scheduler],\n",
        "        verbose_eval=0,\n",
        "    )\n",
        "\n",
        "    xgb_boosts.append(model)\n",
        "\n",
        "    preds = model.predict(eval_dataset, iteration_range=(0, iters))\n",
        "    rmse = mean_squared_error(y_val, preds, squared=False)\n",
        "    xgb_scores.append(rmse)\n",
        "\n",
        "# Средние метрики на кросс-валидации\n",
        "assert len(xgb_boosts) == n_splits\n",
        "print(\"mean RMSE score -->\", np.mean(xgb_scores) - np.std(xgb_scores))"
      ],
      "metadata": {
        "colab": {
          "base_uri": "https://localhost:8080/"
        },
        "id": "4XV5BhYMQBXk",
        "outputId": "61f488b0-0e09-4364-b7f4-7a3b6774c7a0"
      },
      "execution_count": 84,
      "outputs": [
        {
          "output_type": "stream",
          "name": "stdout",
          "text": [
            "mean RMSE score --> 11.801630476274687\n"
          ]
        }
      ]
    },
    {
      "cell_type": "code",
      "source": [
        "# Выбираем и сохраняем лучший фолд\n",
        "xgb_best_model = xgb_boosts[np.argmin(xgb_scores)]\n",
        "xgb_best_model.save_model(\"xgb_model.json\")"
      ],
      "metadata": {
        "id": "wbr4uEwpUQXi"
      },
      "execution_count": 85,
      "outputs": []
    },
    {
      "cell_type": "markdown",
      "source": [
        "### Итоговое предсказание"
      ],
      "metadata": {
        "id": "YpP8tsB6UgC7"
      }
    },
    {
      "cell_type": "code",
      "source": [
        "# Подготовим набор данных для сохранения\n",
        "submission = test_data[['car_id']].copy()"
      ],
      "metadata": {
        "id": "2Q_NdDjPW5Hh"
      },
      "execution_count": 86,
      "outputs": []
    },
    {
      "cell_type": "code",
      "source": [
        "# Подготовка данных\n",
        "X_test = test_data.drop(columns=cols_to_drop + target_cols, errors='ignore')\n",
        "\n",
        "# Изменяем тип категориальных фичей так, что CatBoost всё устроило\n",
        "for col in cat_features:\n",
        "    X_test[col] = X_test[col].astype(str)\n",
        "\n",
        "submission['catboost_predict'] = catboost_best_model.predict(X_test)"
      ],
      "metadata": {
        "id": "y_0juwUpVphp"
      },
      "execution_count": 87,
      "outputs": []
    },
    {
      "cell_type": "code",
      "source": [
        "# Подготовка данных\n",
        "X_test = test_data.drop(columns=cols_to_drop + target_cols, errors='ignore')\n",
        "\n",
        "# Изменяем тип категориальных фичей так, что LightGBM всё устроило\n",
        "label_encoder = LabelEncoder()\n",
        "for col in cat_features:\n",
        "    X_test[col] = label_encoder.fit_transform(X_test[col])\n",
        "\n",
        "submission['lgb_predict'] = lgb_best_model.predict(X_test)"
      ],
      "metadata": {
        "id": "1x7WR7g_VLDR"
      },
      "execution_count": 88,
      "outputs": []
    },
    {
      "cell_type": "code",
      "source": [
        "# Подготовка данных\n",
        "X_test = test_data.drop(columns=cols_to_drop + target_cols, errors='ignore')\n",
        "\n",
        "# Изменяем тип категориальных фичей так, что XGBoost всё устроило\n",
        "for col in cat_features:\n",
        "    X_test[col] = X_test[col].astype('category')\n",
        "\n",
        "test_dataset = xgb.DMatrix(\n",
        "    data=X_test,\n",
        "    nthread=-1,\n",
        "    enable_categorical=True,\n",
        ")\n",
        "\n",
        "submission['xgb_predict'] = xgb_best_model.predict(test_dataset)"
      ],
      "metadata": {
        "id": "aYJ1CpqDUjqQ"
      },
      "execution_count": 89,
      "outputs": []
    },
    {
      "cell_type": "code",
      "source": [
        "submission['target_reg'] = submission[\n",
        "    ['catboost_predict', 'lgb_predict', 'xgb_predict']\n",
        "].mean(axis=1)\n",
        "\n",
        "submission.head()"
      ],
      "metadata": {
        "colab": {
          "base_uri": "https://localhost:8080/",
          "height": 206
        },
        "id": "iTuhHBQoXQYl",
        "outputId": "58893258-fb47-485b-a6f2-21a5a814d4c1"
      },
      "execution_count": 90,
      "outputs": [
        {
          "output_type": "execute_result",
          "data": {
            "text/plain": [
              "       car_id  catboost_predict  lgb_predict  xgb_predict  target_reg\n",
              "0  P17494612l         45.647347    44.333747    46.429443   45.470179\n",
              "1  N-1530212S         32.523349    36.347860    34.499077   34.456762\n",
              "2  B-1154399t         33.791713    34.541898    32.900021   33.744544\n",
              "3  F12725233R         34.825561    35.628818    34.063446   34.839275\n",
              "4  l-1139189J         33.098600    33.036712    32.295288   32.810200"
            ],
            "text/html": [
              "\n",
              "  <div id=\"df-4c2a070d-13ad-4bc2-8853-bca8bf9a6445\" class=\"colab-df-container\">\n",
              "    <div>\n",
              "<style scoped>\n",
              "    .dataframe tbody tr th:only-of-type {\n",
              "        vertical-align: middle;\n",
              "    }\n",
              "\n",
              "    .dataframe tbody tr th {\n",
              "        vertical-align: top;\n",
              "    }\n",
              "\n",
              "    .dataframe thead th {\n",
              "        text-align: right;\n",
              "    }\n",
              "</style>\n",
              "<table border=\"1\" class=\"dataframe\">\n",
              "  <thead>\n",
              "    <tr style=\"text-align: right;\">\n",
              "      <th></th>\n",
              "      <th>car_id</th>\n",
              "      <th>catboost_predict</th>\n",
              "      <th>lgb_predict</th>\n",
              "      <th>xgb_predict</th>\n",
              "      <th>target_reg</th>\n",
              "    </tr>\n",
              "  </thead>\n",
              "  <tbody>\n",
              "    <tr>\n",
              "      <th>0</th>\n",
              "      <td>P17494612l</td>\n",
              "      <td>45.647347</td>\n",
              "      <td>44.333747</td>\n",
              "      <td>46.429443</td>\n",
              "      <td>45.470179</td>\n",
              "    </tr>\n",
              "    <tr>\n",
              "      <th>1</th>\n",
              "      <td>N-1530212S</td>\n",
              "      <td>32.523349</td>\n",
              "      <td>36.347860</td>\n",
              "      <td>34.499077</td>\n",
              "      <td>34.456762</td>\n",
              "    </tr>\n",
              "    <tr>\n",
              "      <th>2</th>\n",
              "      <td>B-1154399t</td>\n",
              "      <td>33.791713</td>\n",
              "      <td>34.541898</td>\n",
              "      <td>32.900021</td>\n",
              "      <td>33.744544</td>\n",
              "    </tr>\n",
              "    <tr>\n",
              "      <th>3</th>\n",
              "      <td>F12725233R</td>\n",
              "      <td>34.825561</td>\n",
              "      <td>35.628818</td>\n",
              "      <td>34.063446</td>\n",
              "      <td>34.839275</td>\n",
              "    </tr>\n",
              "    <tr>\n",
              "      <th>4</th>\n",
              "      <td>l-1139189J</td>\n",
              "      <td>33.098600</td>\n",
              "      <td>33.036712</td>\n",
              "      <td>32.295288</td>\n",
              "      <td>32.810200</td>\n",
              "    </tr>\n",
              "  </tbody>\n",
              "</table>\n",
              "</div>\n",
              "    <div class=\"colab-df-buttons\">\n",
              "\n",
              "  <div class=\"colab-df-container\">\n",
              "    <button class=\"colab-df-convert\" onclick=\"convertToInteractive('df-4c2a070d-13ad-4bc2-8853-bca8bf9a6445')\"\n",
              "            title=\"Convert this dataframe to an interactive table.\"\n",
              "            style=\"display:none;\">\n",
              "\n",
              "  <svg xmlns=\"http://www.w3.org/2000/svg\" height=\"24px\" viewBox=\"0 -960 960 960\">\n",
              "    <path d=\"M120-120v-720h720v720H120Zm60-500h600v-160H180v160Zm220 220h160v-160H400v160Zm0 220h160v-160H400v160ZM180-400h160v-160H180v160Zm440 0h160v-160H620v160ZM180-180h160v-160H180v160Zm440 0h160v-160H620v160Z\"/>\n",
              "  </svg>\n",
              "    </button>\n",
              "\n",
              "  <style>\n",
              "    .colab-df-container {\n",
              "      display:flex;\n",
              "      gap: 12px;\n",
              "    }\n",
              "\n",
              "    .colab-df-convert {\n",
              "      background-color: #E8F0FE;\n",
              "      border: none;\n",
              "      border-radius: 50%;\n",
              "      cursor: pointer;\n",
              "      display: none;\n",
              "      fill: #1967D2;\n",
              "      height: 32px;\n",
              "      padding: 0 0 0 0;\n",
              "      width: 32px;\n",
              "    }\n",
              "\n",
              "    .colab-df-convert:hover {\n",
              "      background-color: #E2EBFA;\n",
              "      box-shadow: 0px 1px 2px rgba(60, 64, 67, 0.3), 0px 1px 3px 1px rgba(60, 64, 67, 0.15);\n",
              "      fill: #174EA6;\n",
              "    }\n",
              "\n",
              "    .colab-df-buttons div {\n",
              "      margin-bottom: 4px;\n",
              "    }\n",
              "\n",
              "    [theme=dark] .colab-df-convert {\n",
              "      background-color: #3B4455;\n",
              "      fill: #D2E3FC;\n",
              "    }\n",
              "\n",
              "    [theme=dark] .colab-df-convert:hover {\n",
              "      background-color: #434B5C;\n",
              "      box-shadow: 0px 1px 3px 1px rgba(0, 0, 0, 0.15);\n",
              "      filter: drop-shadow(0px 1px 2px rgba(0, 0, 0, 0.3));\n",
              "      fill: #FFFFFF;\n",
              "    }\n",
              "  </style>\n",
              "\n",
              "    <script>\n",
              "      const buttonEl =\n",
              "        document.querySelector('#df-4c2a070d-13ad-4bc2-8853-bca8bf9a6445 button.colab-df-convert');\n",
              "      buttonEl.style.display =\n",
              "        google.colab.kernel.accessAllowed ? 'block' : 'none';\n",
              "\n",
              "      async function convertToInteractive(key) {\n",
              "        const element = document.querySelector('#df-4c2a070d-13ad-4bc2-8853-bca8bf9a6445');\n",
              "        const dataTable =\n",
              "          await google.colab.kernel.invokeFunction('convertToInteractive',\n",
              "                                                    [key], {});\n",
              "        if (!dataTable) return;\n",
              "\n",
              "        const docLinkHtml = 'Like what you see? Visit the ' +\n",
              "          '<a target=\"_blank\" href=https://colab.research.google.com/notebooks/data_table.ipynb>data table notebook</a>'\n",
              "          + ' to learn more about interactive tables.';\n",
              "        element.innerHTML = '';\n",
              "        dataTable['output_type'] = 'display_data';\n",
              "        await google.colab.output.renderOutput(dataTable, element);\n",
              "        const docLink = document.createElement('div');\n",
              "        docLink.innerHTML = docLinkHtml;\n",
              "        element.appendChild(docLink);\n",
              "      }\n",
              "    </script>\n",
              "  </div>\n",
              "\n",
              "\n",
              "<div id=\"df-d0d207ce-e4d2-432f-97da-45678e28481e\">\n",
              "  <button class=\"colab-df-quickchart\" onclick=\"quickchart('df-d0d207ce-e4d2-432f-97da-45678e28481e')\"\n",
              "            title=\"Suggest charts\"\n",
              "            style=\"display:none;\">\n",
              "\n",
              "<svg xmlns=\"http://www.w3.org/2000/svg\" height=\"24px\"viewBox=\"0 0 24 24\"\n",
              "     width=\"24px\">\n",
              "    <g>\n",
              "        <path d=\"M19 3H5c-1.1 0-2 .9-2 2v14c0 1.1.9 2 2 2h14c1.1 0 2-.9 2-2V5c0-1.1-.9-2-2-2zM9 17H7v-7h2v7zm4 0h-2V7h2v10zm4 0h-2v-4h2v4z\"/>\n",
              "    </g>\n",
              "</svg>\n",
              "  </button>\n",
              "\n",
              "<style>\n",
              "  .colab-df-quickchart {\n",
              "      --bg-color: #E8F0FE;\n",
              "      --fill-color: #1967D2;\n",
              "      --hover-bg-color: #E2EBFA;\n",
              "      --hover-fill-color: #174EA6;\n",
              "      --disabled-fill-color: #AAA;\n",
              "      --disabled-bg-color: #DDD;\n",
              "  }\n",
              "\n",
              "  [theme=dark] .colab-df-quickchart {\n",
              "      --bg-color: #3B4455;\n",
              "      --fill-color: #D2E3FC;\n",
              "      --hover-bg-color: #434B5C;\n",
              "      --hover-fill-color: #FFFFFF;\n",
              "      --disabled-bg-color: #3B4455;\n",
              "      --disabled-fill-color: #666;\n",
              "  }\n",
              "\n",
              "  .colab-df-quickchart {\n",
              "    background-color: var(--bg-color);\n",
              "    border: none;\n",
              "    border-radius: 50%;\n",
              "    cursor: pointer;\n",
              "    display: none;\n",
              "    fill: var(--fill-color);\n",
              "    height: 32px;\n",
              "    padding: 0;\n",
              "    width: 32px;\n",
              "  }\n",
              "\n",
              "  .colab-df-quickchart:hover {\n",
              "    background-color: var(--hover-bg-color);\n",
              "    box-shadow: 0 1px 2px rgba(60, 64, 67, 0.3), 0 1px 3px 1px rgba(60, 64, 67, 0.15);\n",
              "    fill: var(--button-hover-fill-color);\n",
              "  }\n",
              "\n",
              "  .colab-df-quickchart-complete:disabled,\n",
              "  .colab-df-quickchart-complete:disabled:hover {\n",
              "    background-color: var(--disabled-bg-color);\n",
              "    fill: var(--disabled-fill-color);\n",
              "    box-shadow: none;\n",
              "  }\n",
              "\n",
              "  .colab-df-spinner {\n",
              "    border: 2px solid var(--fill-color);\n",
              "    border-color: transparent;\n",
              "    border-bottom-color: var(--fill-color);\n",
              "    animation:\n",
              "      spin 1s steps(1) infinite;\n",
              "  }\n",
              "\n",
              "  @keyframes spin {\n",
              "    0% {\n",
              "      border-color: transparent;\n",
              "      border-bottom-color: var(--fill-color);\n",
              "      border-left-color: var(--fill-color);\n",
              "    }\n",
              "    20% {\n",
              "      border-color: transparent;\n",
              "      border-left-color: var(--fill-color);\n",
              "      border-top-color: var(--fill-color);\n",
              "    }\n",
              "    30% {\n",
              "      border-color: transparent;\n",
              "      border-left-color: var(--fill-color);\n",
              "      border-top-color: var(--fill-color);\n",
              "      border-right-color: var(--fill-color);\n",
              "    }\n",
              "    40% {\n",
              "      border-color: transparent;\n",
              "      border-right-color: var(--fill-color);\n",
              "      border-top-color: var(--fill-color);\n",
              "    }\n",
              "    60% {\n",
              "      border-color: transparent;\n",
              "      border-right-color: var(--fill-color);\n",
              "    }\n",
              "    80% {\n",
              "      border-color: transparent;\n",
              "      border-right-color: var(--fill-color);\n",
              "      border-bottom-color: var(--fill-color);\n",
              "    }\n",
              "    90% {\n",
              "      border-color: transparent;\n",
              "      border-bottom-color: var(--fill-color);\n",
              "    }\n",
              "  }\n",
              "</style>\n",
              "\n",
              "  <script>\n",
              "    async function quickchart(key) {\n",
              "      const quickchartButtonEl =\n",
              "        document.querySelector('#' + key + ' button');\n",
              "      quickchartButtonEl.disabled = true;  // To prevent multiple clicks.\n",
              "      quickchartButtonEl.classList.add('colab-df-spinner');\n",
              "      try {\n",
              "        const charts = await google.colab.kernel.invokeFunction(\n",
              "            'suggestCharts', [key], {});\n",
              "      } catch (error) {\n",
              "        console.error('Error during call to suggestCharts:', error);\n",
              "      }\n",
              "      quickchartButtonEl.classList.remove('colab-df-spinner');\n",
              "      quickchartButtonEl.classList.add('colab-df-quickchart-complete');\n",
              "    }\n",
              "    (() => {\n",
              "      let quickchartButtonEl =\n",
              "        document.querySelector('#df-d0d207ce-e4d2-432f-97da-45678e28481e button');\n",
              "      quickchartButtonEl.style.display =\n",
              "        google.colab.kernel.accessAllowed ? 'block' : 'none';\n",
              "    })();\n",
              "  </script>\n",
              "</div>\n",
              "    </div>\n",
              "  </div>\n"
            ]
          },
          "metadata": {},
          "execution_count": 90
        }
      ]
    },
    {
      "cell_type": "code",
      "source": [
        "submission[['car_id', 'target_reg']].to_csv('submission.csv', index=False)"
      ],
      "metadata": {
        "id": "go7SYQxLXe2y"
      },
      "execution_count": 91,
      "outputs": []
    },
    {
      "cell_type": "markdown",
      "source": [
        "### Выводы\n",
        "\n",
        "* Наибольшую точность на кросс-валидации показал CatBoost, что связано с подбором гиперпараметров для него.\n",
        "* Для всех трёх моделей точность увеличилась после того, как были отброшены объекты с высоким object importance.\n",
        "* Scheduler дал ощутимый прирост в точности для модели XGBoost."
      ],
      "metadata": {
        "id": "8R7jvsztXoHB"
      }
    }
  ]
}